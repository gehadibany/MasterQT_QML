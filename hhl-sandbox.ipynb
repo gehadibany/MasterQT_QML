{
 "cells": [
  {
   "attachments": {},
   "cell_type": "markdown",
   "metadata": {},
   "source": [
    "# HHL Algorithm Sandbox"
   ]
  },
  {
   "attachments": {},
   "cell_type": "markdown",
   "metadata": {},
   "source": [
    "# HHL Implementation for 3x3 Matrix\n",
    "\n",
    "The structure of this notebook is as follows:\n",
    "1. Define the functions necessary to implement HHL for a 3x3 invertible, non-hermitian matrix.\n",
    "2. Setup a testing suite using those functions for easy fine-tuning of parameters and exploration of the code.\n",
    "\n",
    "## Defining Functions \n"
   ]
  },
  {
   "attachments": {},
   "cell_type": "markdown",
   "metadata": {},
   "source": [
    "First, import the necessary packages."
   ]
  },
  {
   "cell_type": "code",
   "execution_count": 1,
   "metadata": {},
   "outputs": [],
   "source": [
    "import numpy as np\n",
    "from numpy import pi\n",
    "import scipy\n",
    "from qiskit.extensions import UnitaryGate\n",
    "from qiskit import ClassicalRegister, QuantumCircuit, QuantumRegister, execute, Aer\n",
    "from qiskit.visualization import plot_histogram\n",
    "\n"
   ]
  },
  {
   "attachments": {},
   "cell_type": "markdown",
   "metadata": {},
   "source": [
    "## Defining the 3x3 Matrix"
   ]
  },
  {
   "attachments": {},
   "cell_type": "markdown",
   "metadata": {},
   "source": [
    "We need to define a $3\\times3$ invertible but non-hermitian A in Qiskit. That is, the following two qualities must hold:\n",
    "$$AA^{-1} = A^{-1}A = I_n$$\n",
    "$$A \\neq A^{\\dag}$$\n",
    "If we restric ourselves to only real values, the matrix we can choose must then follow the two qualities: invertible and $A\\neq A^T$.\n",
    "\n",
    "One such matrix is the following:\n",
    "\n",
    "$$A = \\Bigg(\\begin{matrix}\n",
    "    1 & 1 & 0 \\\\\n",
    "    -1 & 1 & -1 \\\\\n",
    "    0 & 0.13 & 1.3 \n",
    "\\end{matrix}\\Bigg)$$\n"
   ]
  },
  {
   "cell_type": "code",
   "execution_count": 2,
   "metadata": {},
   "outputs": [
    {
     "name": "stdout",
     "output_type": "stream",
     "text": [
      "Kappa = 1.9216644857061573\n",
      "------------------------------\n",
      "Eigen Values:\n",
      "(-0.9999999999999996+0j)\n",
      "(-0.737773583800078+0j)\n",
      "(-0.5214430145579314+0j)\n",
      "(0.9999999999999987+0j)\n",
      "(0.521443014557931+0j)\n",
      "(0.7377735838000786+0j)\n",
      "(0.5203822037812851+0j)\n",
      "(0.5203822037812851+0j)\n"
     ]
    }
   ],
   "source": [
    "# A = np.matrix([[1, 0, 0], [0, 1, -1], [0, 1, 1]]) # gets 1.4 but only 2 eigenvalues\n",
    "A = np.matrix([[1, 1, 0], [-1, 1, -1], [0, .13, 1.3]]) # gets 1.9 and 3 distinct evals\n",
    "\n",
    "\n",
    "def hermitian_and_pad_matrix(A):\n",
    "    # define a 3x3 zero matrix for aid in construction\n",
    "    zero = np.matrix([[0, 0, 0], [0, 0, 0], [0, 0, 0]])\n",
    "\n",
    "    # construct A' to be a hermitian matrix\n",
    "    Ap = np.vstack((np.hstack((zero, A)), np.hstack((A.getH(), zero))))\n",
    "\n",
    "    A_p = np.pad(Ap, ((0, 2), (0, 2)))\n",
    "\n",
    "    # pad \n",
    "    A_p[-1][-1], A_p[-2][-2] = 1, 1\n",
    "\n",
    "    eig_val, eig_vec = scipy.linalg.eig(A_p)\n",
    "\n",
    "    A_p /= max(np.real(eig_val)) # rescale matrix so that eigenvalues are between -1 and 1\n",
    "\n",
    "    return A_p\n",
    "\n",
    "A_p = hermitian_and_pad_matrix(A)\n",
    "\n",
    "eig_val, eig_vec = scipy.linalg.eig(A_p)\n",
    "\n",
    "kappa = np.linalg.cond(A_p)\n",
    "print(f\"Kappa = {kappa}\")\n",
    "\n",
    "print(\"-\"*30)\n",
    "print(f\"Eigen Values:\")\n",
    "for e_val in eig_val:\n",
    "    print(e_val)\n"
   ]
  },
  {
   "cell_type": "code",
   "execution_count": 3,
   "metadata": {},
   "outputs": [
    {
     "data": {
      "text/plain": [
       "matrix([[ 1.  ,  1.  ,  0.  ],\n",
       "        [-1.  ,  1.  , -1.  ],\n",
       "        [ 0.  ,  0.13,  1.3 ]])"
      ]
     },
     "execution_count": 3,
     "metadata": {},
     "output_type": "execute_result"
    }
   ],
   "source": [
    "A"
   ]
  },
  {
   "attachments": {},
   "cell_type": "markdown",
   "metadata": {},
   "source": [
    "Before I can use the HHL algorithm, we need to convert the non-hermitian matrix into a hermitian matrix form. We can complete this by performing the operation defined in the article. That is, define:\n",
    "$$A' = \\Bigg(\\begin{matrix}\n",
    "    0 & A \\\\\n",
    "    A^{\\dag} & 0 \\end{matrix}\\Bigg)$$\n",
    "A' is now hermitian and can be used to solve  $A'\\cdot y = \\Bigg[\\begin{matrix} b  \\\\ 0 \\end{matrix}\\Bigg]$; where $y = \\Bigg[\\begin{matrix} 0  \\\\ x \\end{matrix}\\Bigg]$"
   ]
  },
  {
   "attachments": {},
   "cell_type": "markdown",
   "metadata": {},
   "source": [
    "HHL requires that the matrix $A$ is a $2^n\\times 2^n$ matrix. Our $A'$ is currently $6\\times6$, so we need to pad it to extend it to $8\\times8$. Our padding constraints need to maintain invertibility and hermitian-ness. To accomplish this, we pad the matrix to have 1's along the diagonal of the 2 added dimensions. For consistency, let's continue to call this matrix $A'$. We perform this logic in the helper function `hermitian_and_pad_matrix()`."
   ]
  },
  {
   "attachments": {},
   "cell_type": "markdown",
   "metadata": {},
   "source": [
    "Let's inspect the eigenvalues of this matrix."
   ]
  },
  {
   "cell_type": "code",
   "execution_count": 4,
   "metadata": {},
   "outputs": [
    {
     "name": "stdout",
     "output_type": "stream",
     "text": [
      "------------------------------\n",
      "Eigen Values:\n",
      "(-0.9999999999999996+0j)\n",
      "(-0.737773583800078+0j)\n",
      "(-0.5214430145579314+0j)\n",
      "(0.9999999999999987+0j)\n",
      "(0.521443014557931+0j)\n",
      "(0.7377735838000786+0j)\n",
      "(0.5203822037812851+0j)\n",
      "(0.5203822037812851+0j)\n",
      "------------------------------\n",
      "Eigen Vectors:\n",
      "[[-0.02764673  0.7021214  -0.07912776  0.02764673  0.07912776 -0.7021214\n",
      "   0.          0.        ]\n",
      " [ 0.60797563  0.06398656  0.35534681 -0.60797563 -0.35534681 -0.06398656\n",
      "   0.          0.        ]\n",
      " [-0.3600018   0.05414114  0.60619093  0.3600018  -0.60619093 -0.05414114\n",
      "   0.          0.        ]\n",
      " [ 0.33076656 -0.45010287  0.43359069  0.33076656  0.43359069 -0.45010287\n",
      "   0.          0.        ]\n",
      " [-0.27763882 -0.54533205 -0.35430163 -0.27763882 -0.35430163 -0.54533205\n",
      "   0.          0.        ]\n",
      " [ 0.55991979 -0.00451201 -0.43182112  0.55991979 -0.43182112 -0.00451201\n",
      "   0.          0.        ]\n",
      " [ 0.          0.          0.          0.          0.          0.\n",
      "   1.          0.        ]\n",
      " [ 0.          0.          0.          0.          0.          0.\n",
      "   0.          1.        ]]\n"
     ]
    }
   ],
   "source": [
    "eig_val, eig_vec = scipy.linalg.eig(A_p)\n",
    "\n",
    "print(\"-\"*30)\n",
    "print(f\"Eigen Values:\")\n",
    "for e_val in eig_val:\n",
    "    print(e_val)\n",
    "print(\"-\"*30)\n",
    "print(f\"Eigen Vectors:\")\n",
    "print(eig_vec)\n"
   ]
  },
  {
   "attachments": {},
   "cell_type": "markdown",
   "metadata": {},
   "source": [
    "Similarly, we initialize and pad the $b$ solution vector. "
   ]
  },
  {
   "cell_type": "code",
   "execution_count": 5,
   "metadata": {},
   "outputs": [],
   "source": [
    "# initialize the b solution vector\n",
    "b = np.array([1, 3, 2])\n",
    "\n",
    "# pad the b array with 0's to be 8 by 1\n",
    "\n",
    "def pad_b(b):\n",
    "    return np.append(b, [0, 0, 0, 0, 0])\n",
    "\n",
    "b_p = pad_b(b)\n"
   ]
  },
  {
   "cell_type": "code",
   "execution_count": 6,
   "metadata": {},
   "outputs": [
    {
     "name": "stdout",
     "output_type": "stream",
     "text": [
      "(8, 8)\n",
      "(8,)\n"
     ]
    }
   ],
   "source": [
    "print(A_p.shape)\n",
    "print(b_p.shape)"
   ]
  },
  {
   "attachments": {},
   "cell_type": "markdown",
   "metadata": {},
   "source": [
    "## Implementing the HHL algorithm"
   ]
  },
  {
   "attachments": {},
   "cell_type": "markdown",
   "metadata": {},
   "source": [
    "### Defining parameters"
   ]
  },
  {
   "attachments": {},
   "cell_type": "markdown",
   "metadata": {},
   "source": [
    "Some parameters should be chosen based on the conditional number of the matrix A. That is, C, used in conditional rotation should be on the order of $1/\\kappa$ where $\\kappa$ is the conditional number of the matrix A. If $\\kappa$ is too large, some of the rows of A will be very linearly dependent and thus the inverse of A is very unstable."
   ]
  },
  {
   "cell_type": "code",
   "execution_count": 7,
   "metadata": {},
   "outputs": [
    {
     "name": "stdout",
     "output_type": "stream",
     "text": [
      "Kappa = 1.9216644857061573\n"
     ]
    }
   ],
   "source": [
    "kappa = np.linalg.cond(A_p)\n",
    "print(f\"Kappa = {kappa}\")"
   ]
  },
  {
   "attachments": {},
   "cell_type": "markdown",
   "metadata": {},
   "source": [
    "We have 3 important paramenters in the quantum linear equation algorithm, which are documented in the original HHL paper (included in the repository):\n",
    "- $T$ is used during the exponentiation of the matrix $A'$ in the Quantum Phase Estimation subroutine of HHL, which employes controlled unitaries of the form $e^{i\\cdot A'\\cdot T}$. $T$ needs to be $O(\\kappa/\\epsilon)$ where  $\\kappa$ is the conditional number of $A'$ and $\\epsilon$ is the desired accuracy for eigenvalue estimation, which is used to implement the quantum pseudo-inversion of $A'$. \n",
    "- $n_{eig}$ is used during QPE and defines the number of qubits used to estimate the eigenvalues of $A'$ up to $n_{eig}$ bits of precision.\n",
    "- $C$ is used during the conditional rotation step of HHL. $C$ needs to be on the order of $1/\\kappa$ where $\\kappa$ is the conditional number of $A'$ as described previously. This is important to have a large probability of success in the algorithm."
   ]
  },
  {
   "cell_type": "code",
   "execution_count": 8,
   "metadata": {},
   "outputs": [],
   "source": [
    "T = 150 # Used in hamiltonian evolution. Needs to be relatively large so that alpha in Eq (3) approximates as sync functions\n",
    "C = 1/2 # Used in conditional rotation. Needs to be on the order of 1/kappa where kappa is the conditional number of A\n",
    "n_eig = 8 # Used in QPE, number of qubits to estimate the eigenvalues of A, defines the precision of the eigenvalues up to n_eig bits\n",
    "\n",
    "n = 3 # 2**n x 2**n A. This defines the number of qubits needed for the dimensions of this problem. Specifically 8 dimensions can be encoded with 3 qubits. \n"
   ]
  },
  {
   "attachments": {},
   "cell_type": "markdown",
   "metadata": {},
   "source": [
    "### Loading The Data"
   ]
  },
  {
   "cell_type": "code",
   "execution_count": 9,
   "metadata": {},
   "outputs": [],
   "source": [
    "def construct_registers(n_eig, n, b_p):\n",
    "    aux = QuantumRegister(1, 'aux') # for conditional eigenvalue inversion\n",
    "\n",
    "    n_l = QuantumRegister(n_eig, 'nl') # stores binary representation of the eigenvalues \n",
    "    n_b = QuantumRegister(n, 'nb') # contains the vector solution\n",
    "\n",
    "    c = ClassicalRegister(n + n_eig + 1, 'c') # 3 for n_b, n_eig for n_l, and 1 for the auxiliary\n",
    "\n",
    "    return aux, n_l, n_b, c\n",
    "\n",
    "aux, n_l, n_b, c = construct_registers(n_eig, n, b_p)\n",
    "\n",
    "def construct_init_circ(n_eig, n, b_p):\n",
    "    # state preparation of b: |0> -> |b>\n",
    "    init_circ = QuantumCircuit(aux, n_l, n_b, c)\n",
    "\n",
    "    b_p = b_p/scipy.linalg.norm(b_p) # normalize b, so it is ready for loading.\n",
    "    init_circ.initialize(b_p, n_b)\n",
    "\n",
    "    return init_circ\n",
    "\n",
    "init_circ = construct_init_circ(n_eig, n, b_p)\n",
    "\n"
   ]
  },
  {
   "cell_type": "markdown",
   "metadata": {},
   "source": [
    "### Quantum Phase Estimation"
   ]
  },
  {
   "attachments": {},
   "cell_type": "markdown",
   "metadata": {},
   "source": [
    "We'll start by converting $A'$ to be a unitary operator by exponentiating it $e^{i\\cdot A'\\cdot T}$ and using Qiskit to convert to a unitary operator."
   ]
  },
  {
   "cell_type": "code",
   "execution_count": 10,
   "metadata": {},
   "outputs": [],
   "source": [
    "def convert_Ap_to_gate(A_p, T):\n",
    "    # convert to unitary matrix through exponentiation\n",
    "    U_mat = scipy.linalg.expm(1j*A_p*T)\n",
    "\n",
    "    # convert to a unitary operator with Qiskit\n",
    "    U = UnitaryGate(U_mat)\n",
    "    U.name = \"$U$\"\n",
    "    return U\n",
    "\n",
    "\n",
    "U = convert_Ap_to_gate(A_p, T)"
   ]
  },
  {
   "attachments": {},
   "cell_type": "markdown",
   "metadata": {},
   "source": [
    "The following is the circuit implementation for QPE."
   ]
  },
  {
   "cell_type": "code",
   "execution_count": 11,
   "metadata": {},
   "outputs": [],
   "source": [
    "def construct_qpe_circ(U):\n",
    "    qpe_circ = QuantumCircuit(aux, n_l, n_b, c)\n",
    "    qpe_circ.barrier()\n",
    "\n",
    "    # First, perform a hadamard on all the memory qubits.\n",
    "    qpe_circ.h(n_l)\n",
    "\n",
    "    # Apply powers of controlled U on the target qubits \n",
    "    for i in range(n_eig): \n",
    "        Upow = U.power(2**(n_eig-1-i)) \n",
    "        ctrl_Upow = Upow.control() \n",
    "        qpe_circ.append(ctrl_Upow, [n_l[i], n_b[0], n_b[1], n_b[2]]) \n",
    "    qpe_circ.barrier() \n",
    "\n",
    "    # Compute the inverse quantum fourier transform \n",
    "    for qubit in range(n_eig//2): \n",
    "        qpe_circ.swap(n_l[qubit], n_l[n_eig-qubit-1]) \n",
    "    for i in range(n_eig): \n",
    "        for m in range(i): \n",
    "            qpe_circ.cp(-pi/(2**(i-m)), n_l[n_eig-1-m], n_l[n_eig-1-i])\n",
    "        qpe_circ.h(n_l[n_eig-1-i])\n",
    "        qpe_circ.barrier()\n",
    "    qpe_circ.barrier()\n",
    "    return qpe_circ\n",
    "\n",
    "qpe_circ = construct_qpe_circ(U)"
   ]
  },
  {
   "attachments": {},
   "cell_type": "markdown",
   "metadata": {},
   "source": [
    "#### Testing our QPE through repeated measurement."
   ]
  },
  {
   "attachments": {},
   "cell_type": "markdown",
   "metadata": {},
   "source": [
    "To test our QPE implementation and inspect the estimated phase of the exponentiated matrix, we repeatedly measure the encoded qubits $n_l$."
   ]
  },
  {
   "cell_type": "code",
   "execution_count": 12,
   "metadata": {},
   "outputs": [],
   "source": [
    "def construct_qpe_measure_circ(init_circ, qpe_circ):\n",
    "    measure_circ = init_circ.compose(qpe_circ)\n",
    "    measure_circ.measure(n_l, c[:n_eig])\n",
    "\n",
    "    return measure_circ\n",
    "\n",
    "measure_circ = construct_qpe_measure_circ(init_circ, qpe_circ)"
   ]
  },
  {
   "attachments": {},
   "cell_type": "markdown",
   "metadata": {},
   "source": [
    "To test working condition, let's measure the $n_l$ qubits to see if the eigenvalues of A are being sufficiently encoded."
   ]
  },
  {
   "cell_type": "code",
   "execution_count": 13,
   "metadata": {},
   "outputs": [
    {
     "name": "stderr",
     "output_type": "stream",
     "text": [
      "Matplotlib is building the font cache; this may take a moment.\n"
     ]
    },
    {
     "data": {
      "image/png": "[encoded data removed]",
      "text/plain": [
       "<Figure size 3000x1500 with 1 Axes>"
      ]
     },
     "execution_count": 13,
     "metadata": {},
     "output_type": "execute_result"
    }
   ],
   "source": [
    "def evaluate_QPE(measure_circ):\n",
    "    nShots = 10000\n",
    "\n",
    "    backend_qasm = Aer.get_backend('qasm_simulator')\n",
    "    # perform constant_full_circuit just 1 time and plot the histogram of states! \n",
    "    res = execute(measure_circ, backend_qasm,shots=nShots).result() \n",
    "    counts = res.get_counts(); \n",
    "    return counts\n",
    "\n",
    "counts = evaluate_QPE(measure_circ)\n",
    "\n",
    "plot_histogram(counts, figsize=(30, 15))"
   ]
  },
  {
   "cell_type": "code",
   "execution_count": 14,
   "metadata": {},
   "outputs": [
    {
     "name": "stdout",
     "output_type": "stream",
     "text": [
      "[1.1583712  1.00473234 4.83689646 1.1583712  4.83689646 1.00473234\n",
      " 0.         0.        ]\n"
     ]
    }
   ],
   "source": [
    "actual_b_j = scipy.linalg.solve(eig_vec, b_p)**2\n",
    "\n",
    "# need to compare to estimated b_j, \n",
    "# \n",
    "\n",
    "print(actual_b_j)"
   ]
  },
  {
   "attachments": {},
   "cell_type": "markdown",
   "metadata": {},
   "source": [
    "Evaluating the outputs of QPE to match the expected eigenvalues of the matrix."
   ]
  },
  {
   "cell_type": "code",
   "execution_count": 15,
   "metadata": {},
   "outputs": [],
   "source": [
    "# find six peaks that must correspond to the bitstring complements of each other. Verifying that QPE is working."
   ]
  },
  {
   "cell_type": "code",
   "execution_count": 16,
   "metadata": {},
   "outputs": [
    {
     "name": "stdout",
     "output_type": "stream",
     "text": [
      "['10110001', '11001110', '10111001', '11000110', '00000111', '00000100', '10000100', '11111011', '01110001', '01001110']\n",
      "[141, 115, 157, 99, 224, 32, 33, 223, 142, 114]\n"
     ]
    }
   ],
   "source": [
    "def calculate_lmd_dec(bit_str):\n",
    "    lmd = 0\n",
    "    for ind, i in enumerate(bit_str[::-1]):\n",
    "        lmd += int(i)/2**(ind+1)\n",
    "\n",
    "    return lmd\n",
    "\n",
    "def binaryToDec(n):\n",
    "    return int(n, 2)\n",
    "\n",
    "# 10 classical register, only consider the top 6: i[0][4:]\n",
    "def get_top_ev_bin(counts):\n",
    "    return [i[0][-n_eig:] for i in sorted(counts.items(), key=lambda i: i[1], reverse=True)[:10]]\n",
    "\n",
    "top_ev_bin = get_top_ev_bin(counts)\n",
    "print(top_ev_bin)\n",
    "\n",
    "\n",
    "def get_top_ev_dec(top_phase):\n",
    "    return [binaryToDec(i[::-1]) for i in top_phase]\n",
    "\n",
    "\n",
    "top_dec = get_top_ev_dec(top_ev_bin)\n",
    "print(top_dec)\n"
   ]
  },
  {
   "cell_type": "code",
   "execution_count": 17,
   "metadata": {},
   "outputs": [
    {
     "name": "stdout",
     "output_type": "stream",
     "text": [
      "Lambda associated with each eigenval: [32, 99, 141, 223, 114, 156, 108, 108]\n"
     ]
    }
   ],
   "source": [
    "\n",
    "def get_real_ev(A_p):\n",
    "    eig_val, eig_vec = scipy.linalg.eig(A_p)\n",
    "    return np.real(eig_val)\n",
    "\n",
    "real_ev = get_real_ev(A_p)\n",
    "\n",
    "def get_real_ev_dec(real_ev):\n",
    "    # in order to compare the real eigenvalues with the lambda from the histogram after QPE\n",
    "    return [int(2**n_eig * T * val / (2*pi) % (2**n_eig)) for val in real_ev] \n",
    "\n",
    "real_ev_dec = get_real_ev_dec(real_ev)\n",
    "\n",
    "print(f\"Lambda associated with each eigenval: {real_ev_dec}\")\n"
   ]
  },
  {
   "attachments": {},
   "cell_type": "markdown",
   "metadata": {},
   "source": [
    "Manual construction of which lambdas correspond to negative eigenvalues"
   ]
  },
  {
   "cell_type": "code",
   "execution_count": 18,
   "metadata": {},
   "outputs": [
    {
     "name": "stdout",
     "output_type": "stream",
     "text": [
      "---------------compare this ev_dec array---------------\n",
      "[141, 115, 157, 99, 224, 32, 33, 223, 142, 114]\n",
      "---------------to the following real_ev's---------------\n",
      "32 : -1.0\n",
      "99 : -0.738\n",
      "141 : -0.521\n",
      "223 : 1.0\n",
      "114 : 0.521\n",
      "156 : 0.738\n",
      "108 : 0.52\n",
      "108 : 0.52\n",
      "Use this to manually construct the `correspondance` array:\n",
      "correspondance = [x_i] where x_i is 1 if the corresponding realev to the i'th experimental ev_dec is pos, else -1\n"
     ]
    }
   ],
   "source": [
    "def print_real_vs_exp_evals(top_dec, real_ev_dec, real_ev):\n",
    "    print(\"-\"*15+\"compare this ev_dec array\"+\"-\"*15)\n",
    "    print(top_dec)\n",
    "    print(\"-\"*15+\"to the following real_ev's\"+\"-\"*15)\n",
    "    [print(i[0], \":\",  round(i[1], 3)) for i in zip(real_ev_dec, real_ev)]\n",
    "    print(\"Use this to manually construct the `correspondance` array:\")\n",
    "    print(\"correspondance = [x_i] where x_i is 1 if the corresponding real\"\n",
    "        \"ev to the i'th experimental ev_dec is pos, else -1\")\n",
    "\n",
    "    return\n",
    "\n",
    "print_real_vs_exp_evals(top_dec, real_ev_dec, real_ev)\n"
   ]
  },
  {
   "cell_type": "code",
   "execution_count": 19,
   "metadata": {},
   "outputs": [],
   "source": [
    "# currently written for [32, 99, 141, 223, 114, 156, 108, 108]\n",
    "correspondance = [-1, -1, -1, 1, 1, 1, 1, 1]"
   ]
  },
  {
   "attachments": {},
   "cell_type": "markdown",
   "metadata": {},
   "source": [
    "We can see in this comparison between the real eigenvalues and those that QPE output. For example, two such arrays could have that: $43=43$, $21=20 \\text{ or } 19$, $44=44$, $20=20 \\text{ or } 19$, $1=1$, $63=62$ with some slight approximation errors. In this way, we have verified that the QPE algorithm is successful."
   ]
  },
  {
   "attachments": {},
   "cell_type": "markdown",
   "metadata": {},
   "source": [
    "### Eigenvalue inversion.\n",
    "\n"
   ]
  },
  {
   "attachments": {},
   "cell_type": "markdown",
   "metadata": {},
   "source": [
    "Using the eigenvalues output from QPE, we can construct a circuit that rotates conditionally based on these eigenvalues."
   ]
  },
  {
   "attachments": {},
   "cell_type": "markdown",
   "metadata": {},
   "source": [
    "Because of arcsin in rotation the parameter $C$ must be smaller than the smallest eigenvalue. Let's calculate $C$ to be bounded by the minimum $\\lambda$.\n"
   ]
  },
  {
   "cell_type": "code",
   "execution_count": 20,
   "metadata": {},
   "outputs": [
    {
     "data": {
      "text/plain": [
       "0.005135987755982988"
      ]
     },
     "execution_count": 20,
     "metadata": {},
     "output_type": "execute_result"
    }
   ],
   "source": [
    "def calculate_min_C(correspondance, top_ev_bin):\n",
    "    C = calculate_lmd_dec(top_ev_bin[0])\n",
    "    for neg, ev in zip(correspondance, top_ev_bin):\n",
    "        eigenvalue = calculate_lmd_dec(ev)\n",
    "        # if the lambda corresponds to a negative eigenvalue, invert it\n",
    "        if neg == -1:\n",
    "            eigenvalue = -1*(1 - eigenvalue)\n",
    "        lambda_j = eigenvalue * (2*pi/T)\n",
    "        C = min(C, abs(lambda_j)-0.0001)\n",
    "    return C\n",
    "\n",
    "\n",
    "C = calculate_min_C(correspondance, top_ev_bin)\n",
    "C"
   ]
  },
  {
   "attachments": {},
   "cell_type": "markdown",
   "metadata": {},
   "source": [
    "The following is the circuit construction."
   ]
  },
  {
   "cell_type": "code",
   "execution_count": 21,
   "metadata": {},
   "outputs": [
    {
     "ename": "MissingOptionalLibraryError",
     "evalue": "\"The 'pylatexenc' library is required to use 'MatplotlibDrawer'. You can install it with 'pip install pylatexenc'.\"",
     "output_type": "error",
     "traceback": [
      "\u001b[1;31m---------------------------------------------------------------------------\u001b[0m",
      "\u001b[1;31mMissingOptionalLibraryError\u001b[0m               Traceback (most recent call last)",
      "Cell \u001b[1;32mIn[21], line 29\u001b[0m\n\u001b[0;32m     25\u001b[0m     \u001b[38;5;28;01mreturn\u001b[39;00m eig_invert_circ\n\u001b[0;32m     28\u001b[0m eig_invert_circ \u001b[38;5;241m=\u001b[39m construct_eig_invert_circ(correspondance, top_ev_bin)\n\u001b[1;32m---> 29\u001b[0m \u001b[43meig_invert_circ\u001b[49m\u001b[38;5;241;43m.\u001b[39;49m\u001b[43mdraw\u001b[49m\u001b[43m(\u001b[49m\u001b[38;5;124;43m'\u001b[39;49m\u001b[38;5;124;43mmpl\u001b[39;49m\u001b[38;5;124;43m'\u001b[39;49m\u001b[43m)\u001b[49m\n",
      "File \u001b[1;32m~\\AppData\\Local\\Programs\\Python\\Python310\\lib\\site-packages\\qiskit\\circuit\\quantumcircuit.py:1896\u001b[0m, in \u001b[0;36mQuantumCircuit.draw\u001b[1;34m(self, output, scale, filename, style, interactive, plot_barriers, reverse_bits, justify, vertical_compression, idle_wires, with_layout, fold, ax, initial_state, cregbundle, wire_order)\u001b[0m\n\u001b[0;32m   1893\u001b[0m \u001b[38;5;66;03m# pylint: disable=cyclic-import\u001b[39;00m\n\u001b[0;32m   1894\u001b[0m \u001b[38;5;28;01mfrom\u001b[39;00m\u001b[38;5;250m \u001b[39m\u001b[38;5;21;01mqiskit\u001b[39;00m\u001b[38;5;21;01m.\u001b[39;00m\u001b[38;5;21;01mvisualization\u001b[39;00m\u001b[38;5;250m \u001b[39m\u001b[38;5;28;01mimport\u001b[39;00m circuit_drawer\n\u001b[1;32m-> 1896\u001b[0m \u001b[38;5;28;01mreturn\u001b[39;00m \u001b[43mcircuit_drawer\u001b[49m\u001b[43m(\u001b[49m\n\u001b[0;32m   1897\u001b[0m \u001b[43m    \u001b[49m\u001b[38;5;28;43mself\u001b[39;49m\u001b[43m,\u001b[49m\n\u001b[0;32m   1898\u001b[0m \u001b[43m    \u001b[49m\u001b[43mscale\u001b[49m\u001b[38;5;241;43m=\u001b[39;49m\u001b[43mscale\u001b[49m\u001b[43m,\u001b[49m\n\u001b[0;32m   1899\u001b[0m \u001b[43m    \u001b[49m\u001b[43mfilename\u001b[49m\u001b[38;5;241;43m=\u001b[39;49m\u001b[43mfilename\u001b[49m\u001b[43m,\u001b[49m\n\u001b[0;32m   1900\u001b[0m \u001b[43m    \u001b[49m\u001b[43mstyle\u001b[49m\u001b[38;5;241;43m=\u001b[39;49m\u001b[43mstyle\u001b[49m\u001b[43m,\u001b[49m\n\u001b[0;32m   1901\u001b[0m \u001b[43m    \u001b[49m\u001b[43moutput\u001b[49m\u001b[38;5;241;43m=\u001b[39;49m\u001b[43moutput\u001b[49m\u001b[43m,\u001b[49m\n\u001b[0;32m   1902\u001b[0m \u001b[43m    \u001b[49m\u001b[43minteractive\u001b[49m\u001b[38;5;241;43m=\u001b[39;49m\u001b[43minteractive\u001b[49m\u001b[43m,\u001b[49m\n\u001b[0;32m   1903\u001b[0m \u001b[43m    \u001b[49m\u001b[43mplot_barriers\u001b[49m\u001b[38;5;241;43m=\u001b[39;49m\u001b[43mplot_barriers\u001b[49m\u001b[43m,\u001b[49m\n\u001b[0;32m   1904\u001b[0m \u001b[43m    \u001b[49m\u001b[43mreverse_bits\u001b[49m\u001b[38;5;241;43m=\u001b[39;49m\u001b[43mreverse_bits\u001b[49m\u001b[43m,\u001b[49m\n\u001b[0;32m   1905\u001b[0m \u001b[43m    \u001b[49m\u001b[43mjustify\u001b[49m\u001b[38;5;241;43m=\u001b[39;49m\u001b[43mjustify\u001b[49m\u001b[43m,\u001b[49m\n\u001b[0;32m   1906\u001b[0m \u001b[43m    \u001b[49m\u001b[43mvertical_compression\u001b[49m\u001b[38;5;241;43m=\u001b[39;49m\u001b[43mvertical_compression\u001b[49m\u001b[43m,\u001b[49m\n\u001b[0;32m   1907\u001b[0m \u001b[43m    \u001b[49m\u001b[43midle_wires\u001b[49m\u001b[38;5;241;43m=\u001b[39;49m\u001b[43midle_wires\u001b[49m\u001b[43m,\u001b[49m\n\u001b[0;32m   1908\u001b[0m \u001b[43m    \u001b[49m\u001b[43mwith_layout\u001b[49m\u001b[38;5;241;43m=\u001b[39;49m\u001b[43mwith_layout\u001b[49m\u001b[43m,\u001b[49m\n\u001b[0;32m   1909\u001b[0m \u001b[43m    \u001b[49m\u001b[43mfold\u001b[49m\u001b[38;5;241;43m=\u001b[39;49m\u001b[43mfold\u001b[49m\u001b[43m,\u001b[49m\n\u001b[0;32m   1910\u001b[0m \u001b[43m    \u001b[49m\u001b[43max\u001b[49m\u001b[38;5;241;43m=\u001b[39;49m\u001b[43max\u001b[49m\u001b[43m,\u001b[49m\n\u001b[0;32m   1911\u001b[0m \u001b[43m    \u001b[49m\u001b[43minitial_state\u001b[49m\u001b[38;5;241;43m=\u001b[39;49m\u001b[43minitial_state\u001b[49m\u001b[43m,\u001b[49m\n\u001b[0;32m   1912\u001b[0m \u001b[43m    \u001b[49m\u001b[43mcregbundle\u001b[49m\u001b[38;5;241;43m=\u001b[39;49m\u001b[43mcregbundle\u001b[49m\u001b[43m,\u001b[49m\n\u001b[0;32m   1913\u001b[0m \u001b[43m    \u001b[49m\u001b[43mwire_order\u001b[49m\u001b[38;5;241;43m=\u001b[39;49m\u001b[43mwire_order\u001b[49m\u001b[43m,\u001b[49m\n\u001b[0;32m   1914\u001b[0m \u001b[43m\u001b[49m\u001b[43m)\u001b[49m\n",
      "File \u001b[1;32m~\\AppData\\Local\\Programs\\Python\\Python310\\lib\\site-packages\\qiskit\\visualization\\circuit\\circuit_visualization.py:274\u001b[0m, in \u001b[0;36mcircuit_drawer\u001b[1;34m(circuit, scale, filename, style, output, interactive, plot_barriers, reverse_bits, justify, vertical_compression, idle_wires, with_layout, fold, ax, initial_state, cregbundle, wire_order)\u001b[0m\n\u001b[0;32m    259\u001b[0m     \u001b[38;5;28;01mreturn\u001b[39;00m _generate_latex_source(\n\u001b[0;32m    260\u001b[0m         circuit,\n\u001b[0;32m    261\u001b[0m         filename\u001b[38;5;241m=\u001b[39mfilename,\n\u001b[1;32m   (...)\u001b[0m\n\u001b[0;32m    271\u001b[0m         wire_order\u001b[38;5;241m=\u001b[39mwire_order,\n\u001b[0;32m    272\u001b[0m     )\n\u001b[0;32m    273\u001b[0m \u001b[38;5;28;01melif\u001b[39;00m output \u001b[38;5;241m==\u001b[39m \u001b[38;5;124m\"\u001b[39m\u001b[38;5;124mmpl\u001b[39m\u001b[38;5;124m\"\u001b[39m:\n\u001b[1;32m--> 274\u001b[0m     image \u001b[38;5;241m=\u001b[39m \u001b[43m_matplotlib_circuit_drawer\u001b[49m\u001b[43m(\u001b[49m\n\u001b[0;32m    275\u001b[0m \u001b[43m        \u001b[49m\u001b[43mcircuit\u001b[49m\u001b[43m,\u001b[49m\n\u001b[0;32m    276\u001b[0m \u001b[43m        \u001b[49m\u001b[43mscale\u001b[49m\u001b[38;5;241;43m=\u001b[39;49m\u001b[43mscale\u001b[49m\u001b[43m,\u001b[49m\n\u001b[0;32m    277\u001b[0m \u001b[43m        \u001b[49m\u001b[43mfilename\u001b[49m\u001b[38;5;241;43m=\u001b[39;49m\u001b[43mfilename\u001b[49m\u001b[43m,\u001b[49m\n\u001b[0;32m    278\u001b[0m \u001b[43m        \u001b[49m\u001b[43mstyle\u001b[49m\u001b[38;5;241;43m=\u001b[39;49m\u001b[43mstyle\u001b[49m\u001b[43m,\u001b[49m\n\u001b[0;32m    279\u001b[0m \u001b[43m        \u001b[49m\u001b[43mplot_barriers\u001b[49m\u001b[38;5;241;43m=\u001b[39;49m\u001b[43mplot_barriers\u001b[49m\u001b[43m,\u001b[49m\n\u001b[0;32m    280\u001b[0m \u001b[43m        \u001b[49m\u001b[43mreverse_bits\u001b[49m\u001b[38;5;241;43m=\u001b[39;49m\u001b[43mreverse_bits\u001b[49m\u001b[43m,\u001b[49m\n\u001b[0;32m    281\u001b[0m \u001b[43m        \u001b[49m\u001b[43mjustify\u001b[49m\u001b[38;5;241;43m=\u001b[39;49m\u001b[43mjustify\u001b[49m\u001b[43m,\u001b[49m\n\u001b[0;32m    282\u001b[0m \u001b[43m        \u001b[49m\u001b[43midle_wires\u001b[49m\u001b[38;5;241;43m=\u001b[39;49m\u001b[43midle_wires\u001b[49m\u001b[43m,\u001b[49m\n\u001b[0;32m    283\u001b[0m \u001b[43m        \u001b[49m\u001b[43mwith_layout\u001b[49m\u001b[38;5;241;43m=\u001b[39;49m\u001b[43mwith_layout\u001b[49m\u001b[43m,\u001b[49m\n\u001b[0;32m    284\u001b[0m \u001b[43m        \u001b[49m\u001b[43mfold\u001b[49m\u001b[38;5;241;43m=\u001b[39;49m\u001b[43mfold\u001b[49m\u001b[43m,\u001b[49m\n\u001b[0;32m    285\u001b[0m \u001b[43m        \u001b[49m\u001b[43max\u001b[49m\u001b[38;5;241;43m=\u001b[39;49m\u001b[43max\u001b[49m\u001b[43m,\u001b[49m\n\u001b[0;32m    286\u001b[0m \u001b[43m        \u001b[49m\u001b[43minitial_state\u001b[49m\u001b[38;5;241;43m=\u001b[39;49m\u001b[43minitial_state\u001b[49m\u001b[43m,\u001b[49m\n\u001b[0;32m    287\u001b[0m \u001b[43m        \u001b[49m\u001b[43mcregbundle\u001b[49m\u001b[38;5;241;43m=\u001b[39;49m\u001b[43mcregbundle\u001b[49m\u001b[43m,\u001b[49m\n\u001b[0;32m    288\u001b[0m \u001b[43m        \u001b[49m\u001b[43mwire_order\u001b[49m\u001b[38;5;241;43m=\u001b[39;49m\u001b[43mwire_order\u001b[49m\u001b[43m,\u001b[49m\n\u001b[0;32m    289\u001b[0m \u001b[43m    \u001b[49m\u001b[43m)\u001b[49m\n\u001b[0;32m    290\u001b[0m \u001b[38;5;28;01melse\u001b[39;00m:\n\u001b[0;32m    291\u001b[0m     \u001b[38;5;28;01mraise\u001b[39;00m VisualizationError(\n\u001b[0;32m    292\u001b[0m         \u001b[38;5;124m\"\u001b[39m\u001b[38;5;124mInvalid output type \u001b[39m\u001b[38;5;132;01m%s\u001b[39;00m\u001b[38;5;124m selected. The only valid choices \u001b[39m\u001b[38;5;124m\"\u001b[39m\n\u001b[0;32m    293\u001b[0m         \u001b[38;5;124m\"\u001b[39m\u001b[38;5;124mare text, latex, latex_source, and mpl\u001b[39m\u001b[38;5;124m\"\u001b[39m \u001b[38;5;241m%\u001b[39m output\n\u001b[0;32m    294\u001b[0m     )\n",
      "File \u001b[1;32m~\\AppData\\Local\\Programs\\Python\\Python310\\lib\\site-packages\\qiskit\\visualization\\circuit\\circuit_visualization.py:653\u001b[0m, in \u001b[0;36m_matplotlib_circuit_drawer\u001b[1;34m(circuit, scale, filename, style, plot_barriers, reverse_bits, justify, idle_wires, with_layout, fold, ax, initial_state, cregbundle, wire_order)\u001b[0m\n\u001b[0;32m    650\u001b[0m \u001b[38;5;28;01mif\u001b[39;00m fold \u001b[38;5;129;01mis\u001b[39;00m \u001b[38;5;28;01mNone\u001b[39;00m:\n\u001b[0;32m    651\u001b[0m     fold \u001b[38;5;241m=\u001b[39m \u001b[38;5;241m25\u001b[39m\n\u001b[1;32m--> 653\u001b[0m qcd \u001b[38;5;241m=\u001b[39m \u001b[43m_matplotlib\u001b[49m\u001b[38;5;241;43m.\u001b[39;49m\u001b[43mMatplotlibDrawer\u001b[49m\u001b[43m(\u001b[49m\n\u001b[0;32m    654\u001b[0m \u001b[43m    \u001b[49m\u001b[43mqubits\u001b[49m\u001b[43m,\u001b[49m\n\u001b[0;32m    655\u001b[0m \u001b[43m    \u001b[49m\u001b[43mclbits\u001b[49m\u001b[43m,\u001b[49m\n\u001b[0;32m    656\u001b[0m \u001b[43m    \u001b[49m\u001b[43mnodes\u001b[49m\u001b[43m,\u001b[49m\n\u001b[0;32m    657\u001b[0m \u001b[43m    \u001b[49m\u001b[43mscale\u001b[49m\u001b[38;5;241;43m=\u001b[39;49m\u001b[43mscale\u001b[49m\u001b[43m,\u001b[49m\n\u001b[0;32m    658\u001b[0m \u001b[43m    \u001b[49m\u001b[43mstyle\u001b[49m\u001b[38;5;241;43m=\u001b[39;49m\u001b[43mstyle\u001b[49m\u001b[43m,\u001b[49m\n\u001b[0;32m    659\u001b[0m \u001b[43m    \u001b[49m\u001b[43mreverse_bits\u001b[49m\u001b[38;5;241;43m=\u001b[39;49m\u001b[43mreverse_bits\u001b[49m\u001b[43m,\u001b[49m\n\u001b[0;32m    660\u001b[0m \u001b[43m    \u001b[49m\u001b[43mplot_barriers\u001b[49m\u001b[38;5;241;43m=\u001b[39;49m\u001b[43mplot_barriers\u001b[49m\u001b[43m,\u001b[49m\n\u001b[0;32m    661\u001b[0m \u001b[43m    \u001b[49m\u001b[43mlayout\u001b[49m\u001b[38;5;241;43m=\u001b[39;49m\u001b[38;5;28;43;01mNone\u001b[39;49;00m\u001b[43m,\u001b[49m\n\u001b[0;32m    662\u001b[0m \u001b[43m    \u001b[49m\u001b[43mfold\u001b[49m\u001b[38;5;241;43m=\u001b[39;49m\u001b[43mfold\u001b[49m\u001b[43m,\u001b[49m\n\u001b[0;32m    663\u001b[0m \u001b[43m    \u001b[49m\u001b[43max\u001b[49m\u001b[38;5;241;43m=\u001b[39;49m\u001b[43max\u001b[49m\u001b[43m,\u001b[49m\n\u001b[0;32m    664\u001b[0m \u001b[43m    \u001b[49m\u001b[43minitial_state\u001b[49m\u001b[38;5;241;43m=\u001b[39;49m\u001b[43minitial_state\u001b[49m\u001b[43m,\u001b[49m\n\u001b[0;32m    665\u001b[0m \u001b[43m    \u001b[49m\u001b[43mcregbundle\u001b[49m\u001b[38;5;241;43m=\u001b[39;49m\u001b[43mcregbundle\u001b[49m\u001b[43m,\u001b[49m\n\u001b[0;32m    666\u001b[0m \u001b[43m    \u001b[49m\u001b[43mglobal_phase\u001b[49m\u001b[38;5;241;43m=\u001b[39;49m\u001b[38;5;28;43;01mNone\u001b[39;49;00m\u001b[43m,\u001b[49m\n\u001b[0;32m    667\u001b[0m \u001b[43m    \u001b[49m\u001b[43mcalibrations\u001b[49m\u001b[38;5;241;43m=\u001b[39;49m\u001b[38;5;28;43;01mNone\u001b[39;49;00m\u001b[43m,\u001b[49m\n\u001b[0;32m    668\u001b[0m \u001b[43m    \u001b[49m\u001b[43mqregs\u001b[49m\u001b[38;5;241;43m=\u001b[39;49m\u001b[38;5;28;43;01mNone\u001b[39;49;00m\u001b[43m,\u001b[49m\n\u001b[0;32m    669\u001b[0m \u001b[43m    \u001b[49m\u001b[43mcregs\u001b[49m\u001b[38;5;241;43m=\u001b[39;49m\u001b[38;5;28;43;01mNone\u001b[39;49;00m\u001b[43m,\u001b[49m\n\u001b[0;32m    670\u001b[0m \u001b[43m    \u001b[49m\u001b[43mwith_layout\u001b[49m\u001b[38;5;241;43m=\u001b[39;49m\u001b[43mwith_layout\u001b[49m\u001b[43m,\u001b[49m\n\u001b[0;32m    671\u001b[0m \u001b[43m    \u001b[49m\u001b[43mcircuit\u001b[49m\u001b[38;5;241;43m=\u001b[39;49m\u001b[43mcircuit\u001b[49m\u001b[43m,\u001b[49m\n\u001b[0;32m    672\u001b[0m \u001b[43m\u001b[49m\u001b[43m)\u001b[49m\n\u001b[0;32m    673\u001b[0m \u001b[38;5;28;01mreturn\u001b[39;00m qcd\u001b[38;5;241m.\u001b[39mdraw(filename)\n",
      "File \u001b[1;32m~\\AppData\\Local\\Programs\\Python\\Python310\\lib\\site-packages\\qiskit\\utils\\classtools.py:111\u001b[0m, in \u001b[0;36m_WrappedMethod.__get__.<locals>.out\u001b[1;34m(*args, **kwargs)\u001b[0m\n\u001b[0;32m    108\u001b[0m \u001b[38;5;129m@functools\u001b[39m\u001b[38;5;241m.\u001b[39mwraps(method)\n\u001b[0;32m    109\u001b[0m \u001b[38;5;28;01mdef\u001b[39;00m\u001b[38;5;250m \u001b[39m\u001b[38;5;21mout\u001b[39m(\u001b[38;5;241m*\u001b[39margs, \u001b[38;5;241m*\u001b[39m\u001b[38;5;241m*\u001b[39mkwargs):\n\u001b[0;32m    110\u001b[0m     \u001b[38;5;28;01mfor\u001b[39;00m callback \u001b[38;5;129;01min\u001b[39;00m \u001b[38;5;28mself\u001b[39m\u001b[38;5;241m.\u001b[39m_before:\n\u001b[1;32m--> 111\u001b[0m         callback\u001b[38;5;241m.\u001b[39m\u001b[38;5;21m__get__\u001b[39m(obj, objtype)(\u001b[38;5;241m*\u001b[39margs, \u001b[38;5;241m*\u001b[39m\u001b[38;5;241m*\u001b[39mkwargs)\n\u001b[0;32m    112\u001b[0m     retval \u001b[38;5;241m=\u001b[39m method(\u001b[38;5;241m*\u001b[39margs, \u001b[38;5;241m*\u001b[39m\u001b[38;5;241m*\u001b[39mkwargs)\n\u001b[0;32m    113\u001b[0m     \u001b[38;5;28;01mfor\u001b[39;00m callback \u001b[38;5;129;01min\u001b[39;00m \u001b[38;5;28mself\u001b[39m\u001b[38;5;241m.\u001b[39m_after:\n",
      "File \u001b[1;32m~\\AppData\\Local\\Programs\\Python\\Python310\\lib\\site-packages\\qiskit\\utils\\lazy_tester.py:39\u001b[0m, in \u001b[0;36m_RequireNow.__call__\u001b[1;34m(self, *_args, **_kwargs)\u001b[0m\n\u001b[0;32m     38\u001b[0m \u001b[38;5;28;01mdef\u001b[39;00m\u001b[38;5;250m \u001b[39m\u001b[38;5;21m__call__\u001b[39m(\u001b[38;5;28mself\u001b[39m, \u001b[38;5;241m*\u001b[39m_args, \u001b[38;5;241m*\u001b[39m\u001b[38;5;241m*\u001b[39m_kwargs):\n\u001b[1;32m---> 39\u001b[0m     \u001b[38;5;28;43mself\u001b[39;49m\u001b[38;5;241;43m.\u001b[39;49m\u001b[43m_tester\u001b[49m\u001b[38;5;241;43m.\u001b[39;49m\u001b[43mrequire_now\u001b[49m\u001b[43m(\u001b[49m\u001b[38;5;28;43mself\u001b[39;49m\u001b[38;5;241;43m.\u001b[39;49m\u001b[43m_feature\u001b[49m\u001b[43m)\u001b[49m\n",
      "File \u001b[1;32m~\\AppData\\Local\\Programs\\Python\\Python310\\lib\\site-packages\\qiskit\\utils\\lazy_tester.py:223\u001b[0m, in \u001b[0;36mLazyDependencyManager.require_now\u001b[1;34m(self, feature)\u001b[0m\n\u001b[0;32m    221\u001b[0m \u001b[38;5;28;01mif\u001b[39;00m \u001b[38;5;28mself\u001b[39m:\n\u001b[0;32m    222\u001b[0m     \u001b[38;5;28;01mreturn\u001b[39;00m\n\u001b[1;32m--> 223\u001b[0m \u001b[38;5;28;01mraise\u001b[39;00m MissingOptionalLibraryError(\n\u001b[0;32m    224\u001b[0m     libname\u001b[38;5;241m=\u001b[39m\u001b[38;5;28mself\u001b[39m\u001b[38;5;241m.\u001b[39m_name, name\u001b[38;5;241m=\u001b[39mfeature, pip_install\u001b[38;5;241m=\u001b[39m\u001b[38;5;28mself\u001b[39m\u001b[38;5;241m.\u001b[39m_install, msg\u001b[38;5;241m=\u001b[39m\u001b[38;5;28mself\u001b[39m\u001b[38;5;241m.\u001b[39m_msg\n\u001b[0;32m    225\u001b[0m )\n",
      "\u001b[1;31mMissingOptionalLibraryError\u001b[0m: \"The 'pylatexenc' library is required to use 'MatplotlibDrawer'. You can install it with 'pip install pylatexenc'.\""
     ]
    }
   ],
   "source": [
    "# circuit construction\n",
    "from qiskit.circuit.library.standard_gates import UGate\n",
    "import math\n",
    "\n",
    "def theta_angle(C, eigenvalue_bin, neg):\n",
    "    eigenvalue = calculate_lmd_dec(eigenvalue_bin)\n",
    "    # if the lambda corresponds to a negative eigenvalue\n",
    "    if neg == -1:\n",
    "        eigenvalue = -1*(1 - eigenvalue)\n",
    "    lambda_j = eigenvalue * (2*pi/T)\n",
    "\n",
    "    ratio = C/lambda_j\n",
    "    return math.asin(ratio)\n",
    "\n",
    "def construct_eig_invert_circ(correspondance, eigenvalues_bin):\n",
    "    C = calculate_min_C(correspondance, eigenvalues_bin)\n",
    "\n",
    "    eig_invert_circ = QuantumCircuit(aux, n_l)\n",
    "\n",
    "    for neg, ev_bin in zip(correspondance, eigenvalues_bin):\n",
    "        rot_angle = theta_angle(C, ev_bin, neg)\n",
    "        cu_gate = UGate(rot_angle*2, 0, 0).control(n_eig, ctrl_state = ev_bin)\n",
    "        wiring = [i for i in range(1, n_eig+1)]+[0]\n",
    "        eig_invert_circ.append(cu_gate, wiring)\n",
    "    return eig_invert_circ\n",
    "\n",
    "\n",
    "eig_invert_circ = construct_eig_invert_circ(correspondance, top_ev_bin)\n",
    "eig_invert_circ.draw('mpl')"
   ]
  },
  {
   "cell_type": "code",
   "execution_count": null,
   "metadata": {},
   "outputs": [],
   "source": [
    "pip install pylatexenc"
   ]
  },
  {
   "attachments": {},
   "cell_type": "markdown",
   "metadata": {},
   "source": [
    "### Reverse QPE."
   ]
  },
  {
   "cell_type": "code",
   "execution_count": null,
   "metadata": {},
   "outputs": [],
   "source": [
    "def construct_rev_qpe_circ():\n",
    "    return qpe_circ.inverse()\n",
    "\n",
    "rev_qpe_circ = construct_rev_qpe_circ()\n",
    "rev_qpe_circ.draw('mpl')"
   ]
  },
  {
   "attachments": {},
   "cell_type": "markdown",
   "metadata": {},
   "source": [
    "### Putting it all together"
   ]
  },
  {
   "attachments": {},
   "cell_type": "markdown",
   "metadata": {},
   "source": [
    "We can summarize each of the circuit parts as the following.\n",
    "- `init_circ` defines the loading of data $|b\\rangle$ into the $n_b$ qubits.\n",
    "- `qpe_circ` defines the circuit for quantum phase estimation, encoding the eigenvalues of $A'$ into the $n_l$ qubits. \n",
    "- `eig_invert_circ` defines the eigenvalue inversion circuit.\n",
    "- `reverse_qpe_circ` defines the reverse qpe circuit.\n"
   ]
  },
  {
   "cell_type": "code",
   "execution_count": null,
   "metadata": {},
   "outputs": [],
   "source": [
    "def construct_full_circuit(init_circ, qpe_circ, eig_invert_circ, reverse_qpe_circ):\n",
    "    final_circ = init_circ.compose(qpe_circ).compose(eig_invert_circ).compose(reverse_qpe_circ) \n",
    "    final_circ.measure(aux, c[0]) # measure the aux qubit\n",
    "    final_circ.measure(n_l, c[1:n_eig+1]) # measure n_l into the  3 classical registers\n",
    "    final_circ.measure(n_b, c[n_eig+1:]) # measure to the next 3 classical registers\n",
    "\n",
    "    return final_circ\n",
    "\n",
    "full_circuit = construct_full_circuit(init_circ, qpe_circ, eig_invert_circ, rev_qpe_circ)\n",
    "full_circuit.draw('mpl')"
   ]
  },
  {
   "attachments": {},
   "cell_type": "markdown",
   "metadata": {},
   "source": [
    "We need to repeatedly measure this circuit until we see the auxiliary qubit in the 1 state. After experimentation, as seen in the following cell, this should occur every 3/4th of the time. "
   ]
  },
  {
   "attachments": {},
   "cell_type": "markdown",
   "metadata": {},
   "source": [
    "Let's measure both the auxiliary qubit and the $n_l$ qubits to measure for failures."
   ]
  },
  {
   "cell_type": "code",
   "execution_count": null,
   "metadata": {},
   "outputs": [],
   "source": [
    "def checkFailed(class_regs):\n",
    "    # input 10 classical registers, check if the outputs faield\n",
    "    return  class_regs[-1] == '0' or any([i != '0' for i in class_regs[3:-1]])\n",
    "\n",
    "\n",
    "def measure_all(full_circuit, nShots=10000):\n",
    "    backend_qasm = Aer.get_backend('qasm_simulator')\n",
    "    # perform constant_full_circuit just 1 time and plot the histogram of states! \n",
    "    \n",
    "    res = execute(full_circuit, backend_qasm, shots=nShots).result() \n",
    "\n",
    "    final_counts = res.get_counts()\n",
    "    \n",
    "    # remove the failures\n",
    "    numFailed = sum([val for key, val in final_counts.items() if checkFailed(key)])\n",
    "\n",
    "    delItem = []\n",
    "    for key, val in final_counts.items():\n",
    "        if checkFailed(key):\n",
    "            delItem.append(key)\n",
    "            \n",
    "    for item in delItem:\n",
    "        final_counts.pop(item)\n",
    "\n",
    "    return final_counts, numFailed\n",
    "\n",
    "nShots = 10000\n",
    "final_counts, numFailed = measure_all(full_circuit, nShots)\n",
    "plot_histogram(final_counts)\n"
   ]
  },
  {
   "attachments": {},
   "cell_type": "markdown",
   "metadata": {},
   "source": [
    "However, a lot of these measurements failed, so delete the measurements where the auxiliary qubit is measured to be in the 0 state (conditional rotation failed). And where the n_l registers aren't in the $|0\\rangle$ state (inverse QPE failed)."
   ]
  },
  {
   "cell_type": "code",
   "execution_count": null,
   "metadata": {},
   "outputs": [],
   "source": [
    "def get_x_hhl(nShots, numFailed):\n",
    "    x_hhl = [i[1]/(nShots - numFailed) for i in sorted(final_counts.items(), key=lambda i: i[0], reverse=False)]\n",
    "    x_hhl = [0, 0, 0] + x_hhl + [0, 0]\n",
    "    return x_hhl\n",
    "\n",
    "x_hhl = get_x_hhl(nShots, numFailed)\n",
    "x_hhl"
   ]
  },
  {
   "cell_type": "code",
   "execution_count": null,
   "metadata": {},
   "outputs": [],
   "source": [
    "\n",
    "def get_x_actual(A_p, b_p):\n",
    "\n",
    "    x_actual = scipy.linalg.solve(A_p, b_p)\n",
    "\n",
    "    x_norm = (x_actual/scipy.linalg.norm(x_actual))**2\n",
    "\n",
    "    return [round(i, 3) for i in (x_norm)]\n",
    "\n",
    "x_actual = get_x_actual(A_p, b_p)\n",
    "\n",
    "x_actual"
   ]
  },
  {
   "attachments": {},
   "cell_type": "markdown",
   "metadata": {},
   "source": [
    "# Use the following cells for testing it out!"
   ]
  },
  {
   "attachments": {},
   "cell_type": "markdown",
   "metadata": {},
   "source": [
    "Inputs and Constants:"
   ]
  },
  {
   "cell_type": "code",
   "execution_count": null,
   "metadata": {},
   "outputs": [],
   "source": [
    "# --- inputs ---\n",
    "A = np.matrix([[1, 1, 0], [-1, 1, -1], [0, .13, 1.3]]) # gets 1.9 and 3 distinct evals\n",
    "b = np.array([1, 3, 2])\n",
    "# --- constants ---\n",
    "T = 150 # Used in hamiltonian evolution. Needs to be relatively large so that alpha in Eq (3) approximates as sync functions\n",
    "n_eig = 8 # Used in QPE, number of qubits to estimate the eigenvalues of A, defines the precision of the eigenvalues up to n_eig bits\n",
    "n = 3 # 2**n x 2**n A. This defines the number of qubits needed for the dimensions of this problem. Specifically 8 dimensions can be encoded with 3 qubits. \n"
   ]
  },
  {
   "attachments": {},
   "cell_type": "markdown",
   "metadata": {},
   "source": [
    " HHL Algo"
   ]
  },
  {
   "cell_type": "code",
   "execution_count": null,
   "metadata": {},
   "outputs": [],
   "source": [
    "\n",
    "# ------- HHL ALGO -------\n",
    "# hermitian and pad the matrix\n",
    "A_p = hermitian_and_pad_matrix(A)\n",
    "b_p = pad_b(b)\n",
    "\n",
    "# - step 1: load the data:\n",
    "aux, n_l, n_b, c = construct_registers(n_eig, n, b_p) # construct registers\n",
    "init_circ = construct_init_circ(n_eig, n, b_p)\n",
    "# - step 2: QPE\n",
    "U = convert_Ap_to_gate(A_p, T) # convert A_p to unitary gate\n",
    "qpe_circ = construct_qpe_circ(U)\n",
    "measure_circ = construct_qpe_measure_circ(init_circ, qpe_circ) # add measurements\n",
    "\n",
    "counts = evaluate_QPE(measure_circ)\n",
    "\n",
    "# manual inspection of the eigenvalues from QPE is necessary (in this case) to construct\n",
    "# the conditional rotation\n",
    "top_ev_bin = get_top_ev_bin(counts)\n",
    "top_dec = get_top_ev_dec(top_ev_bin) # these are the decimal representations deciphered from the counts of the QPE evals\n",
    "real_ev = get_real_ev(A_p) # these are the actual eigenvalues of A'\n",
    "real_ev_dec = get_real_ev_dec(real_ev) # save the decimal representation to allow comparison to experimental ev's (lamdba's)\n",
    "\n",
    "# !!! manually construct the correspondance array before moving on !!!\n",
    "print_real_vs_exp_evals(top_dec, real_ev_dec, real_ev)"
   ]
  },
  {
   "cell_type": "code",
   "execution_count": null,
   "metadata": {},
   "outputs": [],
   "source": [
    "# plot_histogram(counts, figsize=((20, 7))) # uncomment to see the histogram\n",
    "correspondance = [-1, -1, -1, 1, 1, 1, 1, 1] # manually construct this array"
   ]
  },
  {
   "cell_type": "code",
   "execution_count": null,
   "metadata": {},
   "outputs": [],
   "source": [
    "# previous was [77, 179, 180, 76, 66, 190, 22, 234, 235, 21]\n",
    "correspondance = [-1, 1, 1, -1, 1, -1, 1, -1, 1, -1]"
   ]
  },
  {
   "attachments": {},
   "cell_type": "markdown",
   "metadata": {},
   "source": [
    "After manually constructing the `correspondance` array. Continue building the circuit."
   ]
  },
  {
   "cell_type": "code",
   "execution_count": null,
   "metadata": {},
   "outputs": [],
   "source": [
    "\n",
    "# Step 3: conditional rotation \n",
    "\n",
    "# compute C to be barely less than the minimum experimental eigenvalues\n",
    "eig_invert_circ = construct_eig_invert_circ(correspondance, top_ev_bin)\n",
    "\n",
    "# step 4: inverse QPE\n",
    "rev_qpe_circ = construct_rev_qpe_circ()\n",
    "\n",
    "# step 5: measure the auxiliary qubit to check for failures\n",
    "full_circuit = construct_full_circuit(init_circ, qpe_circ, eig_invert_circ, rev_qpe_circ)\n",
    "\n",
    "full_circuit.draw('mpl') # uncomment to see the full circuit design"
   ]
  },
  {
   "attachments": {},
   "cell_type": "markdown",
   "metadata": {},
   "source": [
    "Results!"
   ]
  },
  {
   "cell_type": "code",
   "execution_count": null,
   "metadata": {},
   "outputs": [],
   "source": [
    "nShots = 10000\n",
    "final_counts, numFailed = measure_all(full_circuit, nShots)\n",
    "\n",
    "plot_histogram(final_counts)\n",
    "\n",
    "x_hhl = get_x_hhl(nShots, numFailed)\n",
    "x_actual = get_x_actual(A_p, b_p)\n",
    "\n",
    "print(f\"Percentage of Failed Measurements: {numFailed/nShots*100}% Failed\")\n",
    "print(f\"|x> from HHL: {x_hhl}\")\n",
    "print(f\"|x> from actual: {x_actual}\")\n"
   ]
  },
  {
   "cell_type": "code",
   "execution_count": null,
   "metadata": {},
   "outputs": [],
   "source": [
    "print(f\"Normalized difference: {scipy.linalg.norm(np.array(x_hhl) - np.array(x_actual))}\")"
   ]
  },
  {
   "cell_type": "code",
   "execution_count": null,
   "metadata": {},
   "outputs": [],
   "source": [
    "full_circuit.draw('mpl')"
   ]
  }
 ],
 "metadata": {
  "kernelspec": {
   "display_name": "Python 3 (ipykernel)",
   "language": "python",
   "name": "python3"
  },
  "language_info": {
   "codemirror_mode": {
    "name": "ipython",
    "version": 3
   },
   "file_extension": ".py",
   "mimetype": "text/x-python",
   "name": "python",
   "nbconvert_exporter": "python",
   "pygments_lexer": "ipython3",
   "version": "3.10.0"
  },
  "vscode": {
   "interpreter": {
    "hash": "e7370f93d1d0cde622a1f8e1c04877d8463912d04d973331ad4851f04de6915a"
   }
  }
 },
 "nbformat": 4,
 "nbformat_minor": 4
}
